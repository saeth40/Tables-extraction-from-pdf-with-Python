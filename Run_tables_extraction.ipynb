{
 "cells": [
  {
   "cell_type": "code",
   "execution_count": 32,
   "metadata": {},
   "outputs": [],
   "source": [
    "#function\n",
    "\n",
    "#general table: input = int i\n",
    "#top and buttom = in the same page\n",
    "\n",
    "def location(i, page_no, top_bottom):\n",
    "    if top_bottom == 'top':\n",
    "        word=doc.get_toc()[i][1]\n",
    "        page=doc[page_no]\n",
    "        loc = page.search_for(word)\n",
    "        lol=False\n",
    "        if len(loc)==0:\n",
    "            if 'ำ' in word:\n",
    "                word=sorted(doc.get_toc()[i][1].split('ำ'), key=len)[-1]\n",
    "                loc=page.search_for(word)\n",
    "                if len(loc) != 0:\n",
    "                    loc=page.search_for(word)[-1].y1\n",
    "                else:\n",
    "                    lol=True\n",
    "            else:\n",
    "                word=word.split(' ')\n",
    "                if len(word)>=2:\n",
    "                    word=' '.join(word[:2])\n",
    "                    loc=page.search_for(word)\n",
    "                    if len(loc) !=0:\n",
    "                        loc=page.search_for(word)[-1].y1\n",
    "                    else:\n",
    "                        lol=True\n",
    "                else:\n",
    "                    lol=True\n",
    "        else:\n",
    "            loc=page.search_for(word)[-1].y1\n",
    "        if lol:\n",
    "            return 'error'\n",
    "        else:\n",
    "            return loc\n",
    "    else:\n",
    "        word=doc.get_toc()[i][1]\n",
    "        page=doc[page_no]\n",
    "        loc = page.search_for(word)\n",
    "        lol=False\n",
    "        if len(loc)==0:\n",
    "            if 'ำ' in word:\n",
    "                word=sorted(doc.get_toc()[i][1].split('ำ'), key=len)[-1]\n",
    "                loc=page.search_for(word)\n",
    "                if len(loc) != 0:\n",
    "                    loc=page.search_for(word)[-1].y0\n",
    "                else:\n",
    "                    lol=True\n",
    "            else:\n",
    "                word=word.split(' ')\n",
    "                if len(word)>=2:\n",
    "                    word=' '.join(word[:2])\n",
    "                    loc=page.search_for(word)\n",
    "                    if len(loc) !=0:\n",
    "                        loc=page.search_for(word)[-1].y0\n",
    "                    else:\n",
    "                        lol=True\n",
    "                else:\n",
    "                    lol=True\n",
    "        else:\n",
    "            loc=page.search_for(word)[-1].y0\n",
    "        if lol:\n",
    "            return 'error'\n",
    "        else:\n",
    "            return loc\n",
    "    \n",
    "    \n",
    "\n",
    "def general(i):\n",
    "    #not the last saraban\n",
    "    if i != len(doc.get_toc())-1:\n",
    "        out=[]\n",
    "        numpage=doc.get_toc()[i][2]\n",
    "        page=doc[numpage-1]\n",
    "        lol=False\n",
    "\n",
    "        if location(i, numpage-1, 'top') != 'error':\n",
    "            top= location(i, numpage-1, 'top')\n",
    "        else:\n",
    "            lol=True\n",
    "\n",
    "        if location(i+1, numpage-1, 'buttom') != 'error':\n",
    "            buttom= location(i+1, numpage-1, 'buttom')\n",
    "        else:\n",
    "            lol=True\n",
    "\n",
    "\n",
    "        if not lol:\n",
    "            if top < buttom:\n",
    "                df = read_pdf(path, encoding = 'utf-8',stream=True, pages=numpage,\n",
    "                              area=(top, 0, buttom, 595.22), relative_area=False)\n",
    "                for hh in df:\n",
    "                    if not hh.empty:\n",
    "                        out.append(hh)\n",
    "\n",
    "        if len(out) != 0:\n",
    "            return pd.concat(out)\n",
    "        else:\n",
    "            return out\n",
    "    #last saraban + same page (last page)\n",
    "    else:\n",
    "        out=[]\n",
    "        numpage=doc.get_toc()[i][2]\n",
    "        page=doc[numpage-1]\n",
    "        lol=False\n",
    "        \n",
    "        if location(i, numpage-1, 'top') != 'error':\n",
    "            top= location(i, numpage-1, 'top')\n",
    "        else:\n",
    "            lol=True\n",
    "            \n",
    "        if not lol:\n",
    "            df = read_pdf(path, encoding = 'utf-8',stream=True, pages=numpage,\n",
    "                          area=(top, 0, 842, 595.22), relative_area=False)\n",
    "            for hh in df:\n",
    "                if not hh.empty:\n",
    "                    out.append(hh)\n",
    "        if len(out) !=0:\n",
    "            return pd.concat(out)\n",
    "        else:\n",
    "            return out\n",
    "        \n",
    "\n",
    "#table, top/ buttom not the same page\n",
    "def table(i, page_next, page_now):\n",
    "    if page_next != page_now:\n",
    "        out=[]\n",
    "        lol=False\n",
    "\n",
    "        if location(i, page_now, 'top') != 'error':\n",
    "            top= location(i, page_now, 'top')\n",
    "        else:\n",
    "            lol=True\n",
    "        if not lol :\n",
    "            df = read_pdf(path, encoding = 'utf-8',stream=True, pages=page_now+1,\n",
    "                          area=(top, 0, 842, 595.22), relative_area=False)\n",
    "\n",
    "\n",
    "            for t in df:\n",
    "                if not t.empty:\n",
    "                    out.append(t)\n",
    "\n",
    "\n",
    "        for h in range(page_next-page_now):\n",
    "            #not the last page\n",
    "            if h != page_next-page_now-1:\n",
    "                df = read_pdf(path, encoding = 'utf-8',stream=True, pages=page_now+2+h,\n",
    "                              area=(0, 0, 842, 595.22), relative_area=False)\n",
    "\n",
    "\n",
    "                for hh in df:\n",
    "                    if not hh.empty:\n",
    "                        out.append(hh)\n",
    "\n",
    "            #the last page\n",
    "            else:\n",
    "                #if not the last saraban\n",
    "                if page_next != doc.page_count-1:\n",
    "\n",
    "                    if location(i+1, page_next, 'buttom') != 'error':\n",
    "                        buttom= location(i+1, page_next, 'buttom')\n",
    "                    else:\n",
    "                        lol=True\n",
    "\n",
    "                    if not lol:\n",
    "                        df = read_pdf(path, encoding = 'utf-8',stream=True, pages=page_now+2+h,\n",
    "                                      area=(0, 0, buttom, 595.22), relative_area=False)\n",
    "\n",
    "\n",
    "                        for q in df:\n",
    "                            if not q.empty:\n",
    "                                out.append(q)\n",
    "                # if the last saraban\n",
    "                else:\n",
    "                    df = read_pdf(path, encoding = 'utf-8',stream=True, pages=page_now+2+h,\n",
    "                                  area=(0, 0, 842, 595.22), relative_area=False)\n",
    "                    for q in df:\n",
    "                        if not q.empty:\n",
    "                            out.append(q)\n",
    "        if len(out) != 0:\n",
    "            return pd.concat(out)\n",
    "        else:\n",
    "            return out\n",
    "    else:\n",
    "        return general(i)\n",
    "\n",
    "    \n",
    "def proc():\n",
    "    page_now=doc.get_toc()[i][2]-1\n",
    "    #print('page_now', page_now+1)\n",
    "    \n",
    "    #not the last saraban\n",
    "    if i != len(doc.get_toc())-1:\n",
    "        page_next = doc.get_toc()[i+1][2]-1\n",
    "        #print('page_next', page_next+1)\n",
    "        \n",
    "        #if same page\n",
    "        if page_now == page_next:\n",
    "            return table(i, page_next, page_now)\n",
    "            \n",
    "         #if not the same page\n",
    "        else:\n",
    "            return table(i, page_next, page_now)\n",
    "            \n",
    "    #the last saraban         \n",
    "    else:\n",
    "        page_next = doc.page_count-1\n",
    "        #print('page_next', page_next+1)\n",
    "        #if same page\n",
    "        if page_now  == page_next:\n",
    "            return table(i, page_next, page_now)\n",
    "            \n",
    "        #if not same page\n",
    "        else:\n",
    "            return table(i, page_next, page_now)"
   ]
  },
  {
   "cell_type": "code",
   "execution_count": 33,
   "metadata": {},
   "outputs": [
    {
     "name": "stdout",
     "output_type": "stream",
     "text": [
      "iter: 0\n",
      "C:\\Users\\saeth\\Desktop\\ext3\\pdf\\unit3\\2550\\1509535188_1245.pdf\n",
      "time(sec):  81.55703401565552\n",
      "iter: 1\n",
      "C:\\Users\\saeth\\Desktop\\ext3\\pdf\\unit3\\2550\\1509535292_9016.pdf\n",
      "time(sec):  1642.90256857872\n",
      "iter: 2\n",
      "C:\\Users\\saeth\\Desktop\\ext3\\pdf\\unit3\\2550\\1509535619_7122.pdf\n",
      "time(sec):  1242.32998752594\n",
      "iter: 3\n",
      "C:\\Users\\saeth\\Desktop\\ext3\\pdf\\unit3\\2551\\1509685081_8040.pdf\n",
      "time(sec):  85.30602192878723\n",
      "iter: 4\n",
      "C:\\Users\\saeth\\Desktop\\ext3\\pdf\\unit3\\2551\\1509691009_7642.pdf\n",
      "time(sec):  1318.3861949443817\n",
      "iter: 5\n",
      "C:\\Users\\saeth\\Desktop\\ext3\\pdf\\unit3\\2551\\1509690305_3477.pdf\n",
      "time(sec):  69.29110217094421\n",
      "iter: 6\n",
      "C:\\Users\\saeth\\Desktop\\ext3\\pdf\\unit3\\2552\\1509531885_2442.pdf\n",
      "time(sec):  1222.9052000045776\n",
      "iter: 7\n",
      "C:\\Users\\saeth\\Desktop\\ext3\\pdf\\unit3\\2552\\1509531135_7040.pdf\n",
      "time(sec):  1617.6292514801025\n",
      "iter: 8\n",
      "C:\\Users\\saeth\\Desktop\\ext3\\pdf\\unit3\\2552\\1509531135_7040.pdf\n",
      "time(sec):  3142.790982246399\n",
      "iter: 9\n",
      "C:\\Users\\saeth\\Desktop\\ext3\\pdf\\unit3\\2553\\1509529401_5247.pdf\n",
      "time(sec):  3149.8247616291046\n",
      "iter: 10\n",
      "C:\\Users\\saeth\\Desktop\\ext3\\pdf\\unit3\\2553\\1509524725_4548.pdf\n",
      "time(sec):  6470.169114589691\n",
      "iter: 11\n",
      "C:\\Users\\saeth\\Desktop\\ext3\\pdf\\unit3\\2553\\1509530011_3562.pdf\n",
      "time(sec):  3322.4675176143646\n"
     ]
    }
   ],
   "source": [
    "pool='C:\\\\Users\\\\saeth\\\\Desktop\\\\ext3\\\\pdf\\\\unit3\\\\'\n",
    "folders=sorted(os.listdir(pool))\n",
    "#doc = fitz.open(path)\n",
    "\n",
    "\n",
    "\n",
    "iteration=-1\n",
    "for year in folders[:4]:\n",
    "    folder=sorted(os.listdir(pool+year))\n",
    "    files=random.choices(folder, k=3)\n",
    "    for file in files:\n",
    "        start = time.time()\n",
    "        path=pool + year + '\\\\' + file\n",
    "        doc=fitz.open(path)\n",
    "        iteration+=1\n",
    "        print('iter:', iteration)\n",
    "        print(path)\n",
    "\n",
    "        for i in range(len(doc.get_toc())):\n",
    "\n",
    "            if doc.get_toc()[i][0]==3:\n",
    "                proc()\n",
    "\n",
    "            elif doc.get_toc()[i][0]==4:\n",
    "                proc()\n",
    "\n",
    "            elif doc.get_toc()[i][0]==5:\n",
    "                proc()\n",
    "\n",
    "        stop=time.time()\n",
    "        print('time(sec): ',stop - start)"
   ]
  },
  {
   "cell_type": "code",
   "execution_count": 4,
   "metadata": {},
   "outputs": [
    {
     "data": {
      "text/plain": [
       "['2550', '2551', '2552', '2553']"
      ]
     },
     "execution_count": 4,
     "metadata": {},
     "output_type": "execute_result"
    }
   ],
   "source": [
    "pool='C:\\\\Users\\\\saeth\\\\Desktop\\\\ext3\\\\pdf\\\\unit3\\\\'\n",
    "folders=sorted(os.listdir(pool))\n",
    "folders[:4]"
   ]
  },
  {
   "cell_type": "code",
   "execution_count": 5,
   "metadata": {},
   "outputs": [
    {
     "data": {
      "text/plain": [
       "['2554', '2555', '2556', '2557']"
      ]
     },
     "execution_count": 5,
     "metadata": {},
     "output_type": "execute_result"
    }
   ],
   "source": [
    "folders[4:8]"
   ]
  },
  {
   "cell_type": "code",
   "execution_count": 7,
   "metadata": {},
   "outputs": [
    {
     "data": {
      "text/plain": [
       "['2558', '2559', '2560', '2561']"
      ]
     },
     "execution_count": 7,
     "metadata": {},
     "output_type": "execute_result"
    }
   ],
   "source": [
    "folders[8:12]"
   ]
  },
  {
   "cell_type": "code",
   "execution_count": 8,
   "metadata": {},
   "outputs": [
    {
     "data": {
      "text/plain": [
       "['2562', '2563', '2564']"
      ]
     },
     "execution_count": 8,
     "metadata": {},
     "output_type": "execute_result"
    }
   ],
   "source": [
    "folders[12:]"
   ]
  },
  {
   "cell_type": "code",
   "execution_count": 9,
   "metadata": {},
   "outputs": [
    {
     "name": "stdout",
     "output_type": "stream",
     "text": [
      "['1509534520_1852.pdf', '1509534561_3573.pdf', '1509534624_8822.pdf', '1509534911_1352.pdf', '1509535048_3721.pdf', '1509535088_6263.pdf', '1509535137_6801.pdf', '1509535188_1245.pdf', '1509535292_9016.pdf', '1509535404_4681.pdf', '1509535459_2356.pdf', '1509535562_7523.pdf', '1509535619_7122.pdf', '1509535664_3132.pdf', '1530599278_7216.pdf']\n",
      "['1509684931_3084.pdf', '1509685081_8040.pdf', '1509685104_3081.pdf', '1509690144_9198.pdf', '1509690180_3167.pdf', '1509690305_3477.pdf', '1509690341_4297.pdf', '1509690427_8046.pdf', '1509690652_9347.pdf', '1509690693_6483.pdf', '1509690977_5919.pdf', '1509691009_7642.pdf', '1509691030_8009.pdf', '1509691088_7875.pdf', '1509691210_9330.pdf']\n",
      "['1509530410_4306.pdf', '1509530701_8820.pdf', '1509530766_3440.pdf', '1509530862_4302.pdf', '1509530899_6833.pdf', '1509531037_2854.pdf', '1509531103_4970.pdf', '1509531135_7040.pdf', '1509531172_7753.pdf', '1509531430_5467.pdf', '1509531885_2442.pdf', '1509531942_1562.pdf', '1509531993_3438.pdf', '1509532041_9216.pdf', '1509532154_4265.pdf', '1509532199_5391.pdf', '1509532264_5624.pdf', '1563163180_3898.pdf']\n",
      "['1509524322_8551.pdf', '1509524571_7092.pdf', '1509524647_2628.pdf', '1509524684_9503.pdf', '1509524725_4548.pdf', '1509528638_4901.pdf', '1509529192_3028.pdf', '1509529251_2352.pdf', '1509529283_4112.pdf', '1509529316_3989.pdf', '1509529348_3823.pdf', '1509529401_5247.pdf', '1509529443_7115.pdf', '1509529663_8648.pdf', '1509529736_3649.pdf', '1509529896_5756.pdf', '1509529955_8610.pdf', '1509530011_3562.pdf']\n"
     ]
    }
   ],
   "source": [
    "for year in folders[:4]:\n",
    "    folder=sorted(os.listdir(pool+year))\n",
    "    print(folder)"
   ]
  },
  {
   "cell_type": "code",
   "execution_count": 19,
   "metadata": {},
   "outputs": [
    {
     "data": {
      "text/plain": [
       "['1509529896_5756.pdf', '1509529663_8648.pdf', '1509528638_4901.pdf']"
      ]
     },
     "execution_count": 19,
     "metadata": {},
     "output_type": "execute_result"
    }
   ],
   "source": [
    "\n",
    "random.choices(folder, k=3)"
   ]
  },
  {
   "cell_type": "code",
   "execution_count": null,
   "metadata": {},
   "outputs": [],
   "source": []
  }
 ],
 "metadata": {
  "kernelspec": {
   "display_name": "Python 3 (ipykernel)",
   "language": "python",
   "name": "python3"
  },
  "language_info": {
   "codemirror_mode": {
    "name": "ipython",
    "version": 3
   },
   "file_extension": ".py",
   "mimetype": "text/x-python",
   "name": "python",
   "nbconvert_exporter": "python",
   "pygments_lexer": "ipython3",
   "version": "3.9.7"
  }
 },
 "nbformat": 4,
 "nbformat_minor": 4
}
