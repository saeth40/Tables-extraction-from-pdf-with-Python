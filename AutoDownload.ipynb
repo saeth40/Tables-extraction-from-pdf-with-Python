{
 "cells": [
  {
   "cell_type": "code",
   "execution_count": 263,
   "metadata": {},
   "outputs": [],
   "source": [
    "from selenium import webdriver\n",
    "from selenium.webdriver.common.keys import Keys\n",
    "from selenium.webdriver.common.by import By\n",
    "from selenium.webdriver.support.ui import WebDriverWait\n",
    "from selenium.webdriver.support import expected_conditions as EC\n",
    "import time\n",
    "import urllib.request\n",
    "import requests\n",
    "from bs4 import BeautifulSoup\n",
    "import os\n",
    "\n",
    "from tabula import read_pdf\n",
    "from tabulate import tabulate\n",
    "import pandas as pd\n",
    "import fitz"
   ]
  },
  {
   "cell_type": "code",
   "execution_count": 260,
   "metadata": {},
   "outputs": [],
   "source": [
    "\n",
    "\n",
    "def download_file(download_url, filename):\n",
    "    response = urllib.request.urlopen(download_url)    \n",
    "    file = open(filename + \".pdf\", 'wb')\n",
    "    file.write(response.read())\n",
    "    file.close()\n",
    " \n",
    "#download_file(pdf_path, \"C:\\\\Users\\\\saeth\\\\Desktop\\\\ext3\\\\pdf\\\\Test1\")"
   ]
  },
  {
   "cell_type": "code",
   "execution_count": 261,
   "metadata": {},
   "outputs": [],
   "source": [
    "################### auto download\n",
    "#1.locate all elements html + get all links in a list\n",
    "#2.run download function and save in local machine\n",
    "\n",
    "path = 'C:\\Program Files (x86)\\chromedriver.exe'\n",
    "driver=webdriver.Chrome(path)\n",
    "url='https://www.bb.go.th/topic3.php?gid=862&mid=545'\n",
    "driver.get(url)\n",
    "\n",
    "all_left_menu=driver.find_elements_by_partial_link_text('ปีงบประมาณ พ.ศ.')\n",
    "\n",
    "#len(all_left_menu)\n",
    "\n",
    "left_menu=[]\n",
    "for i in all_left_menu:\n",
    "    g=i.text.split(' ')\n",
    "    lol=True\n",
    "    if len(g) == 3:\n",
    "        if g[0].strip() == 'ปีงบประมาณ':\n",
    "            if g[1].strip() == 'พ.ศ.':\n",
    "                for q in g[2]:\n",
    "                    if q not in '0123456789':\n",
    "                        lol=False\n",
    "                        break\n",
    "                if lol:\n",
    "                    left_menu.append([i.get_attribute('href'), i.text])\n",
    "#len(left_menu)\n",
    "\n",
    "ele=[]\n",
    "for i in left_menu:\n",
    "    driver.get(i[0])\n",
    "    it=driver.find_element_by_xpath('/html/body/div[3]/div[4]/div/div[2]/div[3]/div[16]/div/div/span[2]')\n",
    "    #print(it.text)\n",
    "    page=int(it.text.split(' ')[1])\n",
    "    year=i[1].split(' ')[-1]\n",
    "    #print(page)\n",
    "    if page!= 1:\n",
    "        for h in range(page):\n",
    "            all_ele= driver.find_elements_by_partial_link_text('ฉบับที่ ๓')\n",
    "            if len(all_ele)==0:\n",
    "                all_ele=driver.find_elements_by_partial_link_text('ฉบับที่ 3')\n",
    "            for d in all_ele:\n",
    "                ele.append([d.get_attribute('href'), year])\n",
    "            if h != page-1:\n",
    "                tar=driver.find_element_by_xpath('/html/body/div[3]/div[4]/div/div[2]/div[3]/div[16]/div/a[3]')\n",
    "                driver.get(tar.get_attribute('href'))\n",
    "\n",
    "    else:\n",
    "        all_ele= driver.find_elements_by_partial_link_text('ฉบับที่ ๓')\n",
    "        if len(all_ele)==0:\n",
    "            all_ele=driver.find_elements_by_partial_link_text('ฉบับที่ 3')\n",
    "        for d in all_ele:\n",
    "            ele.append([d.get_attribute('href'), year])\n",
    "            \n",
    "num=0\n",
    "dup=[]\n",
    "for i in ele:\n",
    "    year= i[1]\n",
    "    if year not in dup:\n",
    "        num=0\n",
    "    if year not in dup:\n",
    "        dup.append(year)\n",
    "    driver.get(i[0])\n",
    "    try:\n",
    "        tar=driver.find_element_by_xpath('/html/body/div[3]/div[4]/div/div[2]/div[5]/div/div/div/div[2]/a')\n",
    "        num+=1\n",
    "        #print(tar.get_attribute('href'), num)\n",
    "        download_file(tar.get_attribute('href'), \"C:\\\\Users\\\\saeth\\\\Desktop\\\\ext3\\\\pdf\\\\unit3\\\\\"+i[1]+'_'+str(num))\n",
    "    except:\n",
    "        ror=urllib.request.urlopen(i[0]).read()\n",
    "        soup = BeautifulSoup(ror, 'html.parser')\n",
    "        ff=soup.find_all('iframe')\n",
    "        if len(ff) !=0:\n",
    "            #print(ff[0]['src'], num)\n",
    "            \n",
    "            num+=1\n",
    "            driver.get(ff[0]['src'])\n",
    "            tar=driver.find_element_by_id('download')\n",
    "            tar.click()\n",
    "            #download_file(ff[0]['src'], \"C:\\\\Users\\\\saeth\\\\Desktop\\\\ext3\\\\pdf\\\\unit3\\\\\"+i[1]+'_'+str(num))\n",
    "        else:\n",
    "            #print('no pdf', num)\n",
    "            num+=0"
   ]
  },
  {
   "cell_type": "code",
   "execution_count": 228,
   "metadata": {},
   "outputs": [
    {
     "data": {
      "text/plain": [
       "15"
      ]
     },
     "execution_count": 228,
     "metadata": {},
     "output_type": "execute_result"
    }
   ],
   "source": [
    "len(left_menu)"
   ]
  },
  {
   "cell_type": "code",
   "execution_count": 229,
   "metadata": {},
   "outputs": [
    {
     "data": {
      "text/plain": [
       "[['https://www.bb.go.th/topic3.php?catID=1337&gid=862&mid=545',\n",
       "  'ปีงบประมาณ พ.ศ. 2564'],\n",
       " ['https://www.bb.go.th/topic3.php?catID=1267&gid=862&mid=545',\n",
       "  'ปีงบประมาณ พ.ศ. 2563'],\n",
       " ['https://www.bb.go.th/topic3.php?catID=1151&gid=862&mid=545',\n",
       "  'ปีงบประมาณ พ.ศ. 2562'],\n",
       " ['https://www.bb.go.th/topic3.php?catID=863&gid=862&mid=545',\n",
       "  'ปีงบประมาณ พ.ศ. 2561'],\n",
       " ['https://www.bb.go.th/topic3.php?catID=865&gid=862&mid=545',\n",
       "  'ปีงบประมาณ พ.ศ. 2560'],\n",
       " ['https://www.bb.go.th/topic3.php?catID=866&gid=862&mid=545',\n",
       "  'ปีงบประมาณ พ.ศ. 2559'],\n",
       " ['https://www.bb.go.th/topic3.php?catID=867&gid=862&mid=545',\n",
       "  'ปีงบประมาณ พ.ศ. 2558'],\n",
       " ['https://www.bb.go.th/topic3.php?catID=889&gid=862&mid=545',\n",
       "  'ปีงบประมาณ พ.ศ. 2557'],\n",
       " ['https://www.bb.go.th/topic3.php?catID=890&gid=862&mid=545',\n",
       "  'ปีงบประมาณ พ.ศ. 2556'],\n",
       " ['https://www.bb.go.th/topic3.php?catID=891&gid=862&mid=545',\n",
       "  'ปีงบประมาณ พ.ศ. 2555'],\n",
       " ['https://www.bb.go.th/topic3.php?catID=892&gid=862&mid=545',\n",
       "  'ปีงบประมาณ พ.ศ. 2554'],\n",
       " ['https://www.bb.go.th/topic3.php?catID=893&gid=862&mid=545',\n",
       "  'ปีงบประมาณ พ.ศ. 2553'],\n",
       " ['https://www.bb.go.th/topic3.php?catID=894&gid=862&mid=545',\n",
       "  'ปีงบประมาณ พ.ศ. 2552'],\n",
       " ['https://www.bb.go.th/topic3.php?catID=895&gid=862&mid=545',\n",
       "  'ปีงบประมาณ พ.ศ. 2551'],\n",
       " ['https://www.bb.go.th/topic3.php?catID=896&gid=862&mid=545',\n",
       "  'ปีงบประมาณ พ.ศ. 2550']]"
      ]
     },
     "execution_count": 229,
     "metadata": {},
     "output_type": "execute_result"
    }
   ],
   "source": [
    "left_menu"
   ]
  },
  {
   "cell_type": "code",
   "execution_count": 255,
   "metadata": {},
   "outputs": [
    {
     "data": {
      "text/plain": [
       "293"
      ]
     },
     "execution_count": 255,
     "metadata": {},
     "output_type": "execute_result"
    }
   ],
   "source": [
    "len(ele)"
   ]
  },
  {
   "cell_type": "code",
   "execution_count": 256,
   "metadata": {},
   "outputs": [
    {
     "data": {
      "text/plain": [
       "['https://www.bb.go.th/topic-detail.php?id=12432&mid=545&catID=1337', '2564']"
      ]
     },
     "execution_count": 256,
     "metadata": {},
     "output_type": "execute_result"
    }
   ],
   "source": [
    "ele[0]"
   ]
  },
  {
   "cell_type": "code",
   "execution_count": 74,
   "metadata": {},
   "outputs": [
    {
     "name": "stdout",
     "output_type": "stream",
     "text": [
      "['ปีงบประมาณ พ.ศ. 2564', 'ปีงบประมาณ พ.ศ. 2563', 'ปีงบประมาณ พ.ศ. 2562', 'ปีงบประมาณ พ.ศ. 2561', 'ปีงบประมาณ พ.ศ. 2560', 'ปีงบประมาณ พ.ศ. 2559', 'ปีงบประมาณ พ.ศ. 2558', 'ปีงบประมาณ พ.ศ. 2557', 'ปีงบประมาณ พ.ศ. 2556', 'ปีงบประมาณ พ.ศ. 2555', 'ปีงบประมาณ พ.ศ. 2554', 'ปีงบประมาณ พ.ศ. 2553', 'ปีงบประมาณ พ.ศ. 2552', 'ปีงบประมาณ พ.ศ. 2551', 'ปีงบประมาณ พ.ศ. 2550']\n"
     ]
    }
   ],
   "source": [
    "print([y.text for y in left_menu])"
   ]
  },
  {
   "cell_type": "code",
   "execution_count": null,
   "metadata": {},
   "outputs": [],
   "source": []
  }
 ],
 "metadata": {
  "kernelspec": {
   "display_name": "Python 3 (ipykernel)",
   "language": "python",
   "name": "python3"
  },
  "language_info": {
   "codemirror_mode": {
    "name": "ipython",
    "version": 3
   },
   "file_extension": ".py",
   "mimetype": "text/x-python",
   "name": "python",
   "nbconvert_exporter": "python",
   "pygments_lexer": "ipython3",
   "version": "3.9.7"
  }
 },
 "nbformat": 4,
 "nbformat_minor": 4
}
